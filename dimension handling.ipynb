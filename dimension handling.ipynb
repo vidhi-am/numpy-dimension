{
 "cells": [
  {
   "cell_type": "code",
   "execution_count": 1,
   "metadata": {},
   "outputs": [
    {
     "name": "stdout",
     "output_type": "stream",
     "text": [
      "Array of 4 elements: [0 1 2 3]\n",
      "Notice the shape, this is rank 1 array: (4,)\n",
      "after transpose: (4,)\n"
     ]
    }
   ],
   "source": [
    "import numpy as np\n",
    "\n",
    "### create an array of 4 elements\n",
    "x1 = np.arange(4)\n",
    "print(\"Array of 4 elements:\", x1)\n",
    "print(\"Notice the shape, this is rank 1 array:\", x1.shape)\n",
    "print(\"after transpose:\", x1.T.shape)"
   ]
  },
  {
   "cell_type": "code",
   "execution_count": 2,
   "metadata": {},
   "outputs": [],
   "source": [
    "### Data structures like Rank 1 arrays often cause ambiguous results, they do not behave as either row or column vectors consistently.\n",
    "### for e.g transpose of such array outputs the same array\n",
    "### so, its always recommended to explicitly specify the dimensions of an array"
   ]
  },
  {
   "cell_type": "markdown",
   "metadata": {},
   "source": [
    "### USE 1: Rank1 array to row or column vector conversion"
   ]
  },
  {
   "cell_type": "markdown",
   "metadata": {},
   "source": [
    "np.newaxis"
   ]
  },
  {
   "cell_type": "code",
   "execution_count": 3,
   "metadata": {},
   "outputs": [
    {
     "name": "stdout",
     "output_type": "stream",
     "text": [
      "row vector: [[0 1 2 3]]\n",
      "(1, 4)\n",
      "\n",
      "\n",
      "column vector:\n",
      " [[0]\n",
      " [1]\n",
      " [2]\n",
      " [3]]\n",
      "(4, 1)\n"
     ]
    }
   ],
   "source": [
    "### create a row vector by adding first dimension\n",
    "print(\"row vector:\", x1[np.newaxis, :] )\n",
    "print(x1[np.newaxis, :].shape)\n",
    "\n",
    "### create a column vector by adding second dimension\n",
    "print(\"\\n\")\n",
    "print(\"column vector:\\n\", x1[:, np.newaxis])\n",
    "print(x1[:, np.newaxis].shape)"
   ]
  },
  {
   "cell_type": "markdown",
   "metadata": {},
   "source": [
    "np.reshape"
   ]
  },
  {
   "cell_type": "code",
   "execution_count": 4,
   "metadata": {},
   "outputs": [
    {
     "name": "stdout",
     "output_type": "stream",
     "text": [
      "Row vector using reshape: [[0 1 2 3]]\n",
      "column vector using reshape:\n",
      " [[0]\n",
      " [1]\n",
      " [2]\n",
      " [3]]\n"
     ]
    }
   ],
   "source": [
    "print(\"Row vector using reshape:\", x1.reshape((1, 4)))\n",
    "print(\"column vector using reshape:\\n\", x1.reshape((4, 1)))"
   ]
  },
  {
   "cell_type": "markdown",
   "metadata": {},
   "source": [
    "np.expand_dims: "
   ]
  },
  {
   "cell_type": "code",
   "execution_count": 5,
   "metadata": {},
   "outputs": [
    {
     "name": "stdout",
     "output_type": "stream",
     "text": [
      "Row vector using expand_dims: [[0 1 2 3]]\n",
      "column vector using expand_dims:\n",
      " [[0]\n",
      " [1]\n",
      " [2]\n",
      " [3]]\n"
     ]
    }
   ],
   "source": [
    "print(\"Row vector using expand_dims:\",np.expand_dims(x1, axis=0)) \n",
    "print(\"column vector using expand_dims:\\n\", np.expand_dims(x1, axis=1))"
   ]
  },
  {
   "cell_type": "markdown",
   "metadata": {},
   "source": [
    "### USE 2: Increase the dimension"
   ]
  },
  {
   "cell_type": "code",
   "execution_count": 57,
   "metadata": {},
   "outputs": [
    {
     "data": {
      "text/plain": [
       "(2, 4, 28)"
      ]
     },
     "execution_count": 57,
     "metadata": {},
     "output_type": "execute_result"
    }
   ],
   "source": [
    "x2 = np.arange(2*4*28).reshape(2,4,28)\n",
    "x2.shape"
   ]
  },
  {
   "cell_type": "markdown",
   "metadata": {},
   "source": [
    "Increasing the 3D to 5D"
   ]
  },
  {
   "cell_type": "markdown",
   "metadata": {},
   "source": [
    "newaxis"
   ]
  },
  {
   "cell_type": "code",
   "execution_count": 7,
   "metadata": {},
   "outputs": [
    {
     "name": "stdout",
     "output_type": "stream",
     "text": [
      "Adding 2 more dimesnions to 3D vector to get 5D vector suing newaxis: (2, 4, 1, 1, 28)\n"
     ]
    }
   ],
   "source": [
    "### newaxis can not split a dimension, but insert new dimension like below\n",
    "x2_3D_to_5D = x2[:, :, np.newaxis, np.newaxis, :]\n",
    "print(\"Adding 2 more dimesnions to 3D vector to get 5D vector suing newaxis:\", x2_3D_to_5D.shape)"
   ]
  },
  {
   "cell_type": "markdown",
   "metadata": {},
   "source": [
    "Reshape"
   ]
  },
  {
   "cell_type": "code",
   "execution_count": 8,
   "metadata": {},
   "outputs": [
    {
     "name": "stdout",
     "output_type": "stream",
     "text": [
      "3D to 5D by adding 2 more dimensions using reshape: (2, 4, 1, 1, 28)\n",
      "\n",
      "splitting a dimension using reshape\n",
      "\n",
      "3D to 5D by splitting last dimension into3 using reshape: (2, 4, 7, 2, 2)\n"
     ]
    }
   ],
   "source": [
    "print(\"3D to 5D by adding 2 more dimensions using reshape:\", x2.reshape(2,4,1,1,28).shape)\n",
    "print(\"\\nsplitting a dimension using reshape\\n\")\n",
    "print(\"3D to 5D by splitting last dimension into3 using reshape:\", x2.reshape(2,4,7,2,2).shape)"
   ]
  },
  {
   "cell_type": "markdown",
   "metadata": {},
   "source": [
    "np.expand_dims"
   ]
  },
  {
   "cell_type": "code",
   "execution_count": 9,
   "metadata": {},
   "outputs": [
    {
     "name": "stdout",
     "output_type": "stream",
     "text": [
      "expanding 3D to 5D by adding dimension to a specified axis: (2, 4, 1, 1, 28)\n"
     ]
    }
   ],
   "source": [
    "x2_4D = np.expand_dims(x2, axis=2)\n",
    "print(\"expanding 3D to 5D by adding dimension to a specified axis:\", np.expand_dims(x2_4D, axis=2).shape)"
   ]
  },
  {
   "cell_type": "markdown",
   "metadata": {},
   "source": [
    "### USE 2: Broadcasting"
   ]
  },
  {
   "cell_type": "code",
   "execution_count": 10,
   "metadata": {},
   "outputs": [
    {
     "ename": "ValueError",
     "evalue": "operands could not be broadcast together with shapes (5,) (3,) ",
     "output_type": "error",
     "traceback": [
      "\u001b[1;31m---------------------------------------------------------------------------\u001b[0m",
      "\u001b[1;31mValueError\u001b[0m                                Traceback (most recent call last)",
      "\u001b[1;32m<ipython-input-10-38f723701011>\u001b[0m in \u001b[0;36m<module>\u001b[1;34m()\u001b[0m\n\u001b[0;32m      2\u001b[0m \u001b[0mx2\u001b[0m \u001b[1;33m=\u001b[0m \u001b[0mnp\u001b[0m\u001b[1;33m.\u001b[0m\u001b[0marray\u001b[0m\u001b[1;33m(\u001b[0m\u001b[1;33m[\u001b[0m\u001b[1;36m1\u001b[0m\u001b[1;33m,\u001b[0m\u001b[1;36m2\u001b[0m\u001b[1;33m,\u001b[0m\u001b[1;36m3\u001b[0m\u001b[1;33m]\u001b[0m\u001b[1;33m)\u001b[0m\u001b[1;33m\u001b[0m\u001b[0m\n\u001b[0;32m      3\u001b[0m \u001b[1;33m\u001b[0m\u001b[0m\n\u001b[1;32m----> 4\u001b[1;33m \u001b[0mx1\u001b[0m\u001b[1;33m+\u001b[0m\u001b[0mx2\u001b[0m\u001b[1;33m\u001b[0m\u001b[0m\n\u001b[0m",
      "\u001b[1;31mValueError\u001b[0m: operands could not be broadcast together with shapes (5,) (3,) "
     ]
    }
   ],
   "source": [
    "x1 = np.array([1, 2, 3, 4, 5])\n",
    "x2 = np.array([1,2,3])\n",
    "\n",
    "x1+x2"
   ]
  },
  {
   "cell_type": "code",
   "execution_count": 11,
   "metadata": {},
   "outputs": [
    {
     "name": "stdout",
     "output_type": "stream",
     "text": [
      "x1: [1 2 3 4 5]\n",
      "x1 shape: (5,)\n",
      "x1 column vector:\n",
      " [[1]\n",
      " [2]\n",
      " [3]\n",
      " [4]\n",
      " [5]]\n",
      "(5, 1)\n"
     ]
    },
    {
     "data": {
      "text/plain": [
       "array([[2, 3, 4],\n",
       "       [3, 4, 5],\n",
       "       [4, 5, 6],\n",
       "       [5, 6, 7],\n",
       "       [6, 7, 8]])"
      ]
     },
     "execution_count": 11,
     "metadata": {},
     "output_type": "execute_result"
    }
   ],
   "source": [
    "print(\"x1:\", x1)\n",
    "print(\"x1 shape:\", x1.shape)\n",
    "\n",
    "### In order to broadcast, we need to increase the dimension of one of them\n",
    "x1_newdim = x1[:, np.newaxis]\n",
    "print(\"x1 column vector:\\n\", x1_newdim)\n",
    "print(x1_newdim.shape)\n",
    "\n",
    "### Now, the two arrays can be added\n",
    "x1_newdim+ x2"
   ]
  }
 ],
 "metadata": {
  "kernelspec": {
   "display_name": "Python 3",
   "language": "python",
   "name": "python3"
  },
  "language_info": {
   "codemirror_mode": {
    "name": "ipython",
    "version": 3
   },
   "file_extension": ".py",
   "mimetype": "text/x-python",
   "name": "python",
   "nbconvert_exporter": "python",
   "pygments_lexer": "ipython3",
   "version": "3.6.5"
  }
 },
 "nbformat": 4,
 "nbformat_minor": 2
}
